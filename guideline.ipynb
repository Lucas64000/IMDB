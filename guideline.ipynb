{
 "cells": [
  {
   "cell_type": "markdown",
   "id": "2673baa2-5b49-4ad1-adc5-9d6edaee0a80",
   "metadata": {},
   "source": [
    "# 1) What is the purpose of the artificial intelligence in our problem?\n",
    "\n",
    "The artificial intelligence will be able to determine whether a review is positive or negative based solely on the text provided. It will be trained on 25,000 reviews from the [IMDB dataset](https://huggingface.co/datasets/stanfordnlp/imdb). These reviews are classified into two categories: positive or negative.\n",
    "\n",
    "Therefore, we are going to build a binary classifier. To do this, we'll use the **sigmoid** function, as there are only two classes possible.\n",
    "\n",
    "# 2) Collecting and preparing the data\n",
    "\n",
    "The dataset can be loaded from the Hugging Face website. It returns a DatasetDict containing three datasets: one for training, one for validation, and one for unsupervised learning. In total, there are 50,000 reviews, which are divided into two sets of 25,000 reviews each.\n",
    "\n",
    "The text needs to be cleaned, as we can find `<br>` tags and other kinds of characters that we don't need. We also need to convert the text to lowercase. Then, we'll use a technique called tokenization, which will produce one token per word. Finally, we'll apply lemmatization to reduce the number of words we encounter. In this context, lemmatization is better than stemming because we want to understand emotions.\n",
    "\n",
    "In the first step, we're going to try without removing stop words and then compare the results when we do. It's difficult to know beforehand because stop words can sometimes be meaningful for understanding the emotions of the review's author.\n",
    "\n",
    "When the tokens are ready, we can encode them for the computer to understand."
   ]
  }
 ],
 "metadata": {
  "kernelspec": {
   "display_name": "Python 3 (ipykernel)",
   "language": "python",
   "name": "python3"
  },
  "language_info": {
   "codemirror_mode": {
    "name": "ipython",
    "version": 3
   },
   "file_extension": ".py",
   "mimetype": "text/x-python",
   "name": "python",
   "nbconvert_exporter": "python",
   "pygments_lexer": "ipython3",
   "version": "3.12.4"
  }
 },
 "nbformat": 4,
 "nbformat_minor": 5
}
