{
 "cells": [
  {
   "cell_type": "code",
   "execution_count": 1,
   "id": "42d97212-7453-4599-b786-ba18af2f9c85",
   "metadata": {},
   "outputs": [
    {
     "name": "stderr",
     "output_type": "stream",
     "text": [
      "C:\\Users\\Utilisateur\\AppData\\Local\\Programs\\Python\\Python312\\Lib\\site-packages\\tqdm\\auto.py:21: TqdmWarning: IProgress not found. Please update jupyter and ipywidgets. See https://ipywidgets.readthedocs.io/en/stable/user_install.html\n",
      "  from .autonotebook import tqdm as notebook_tqdm\n"
     ]
    }
   ],
   "source": [
    "import torch\n",
    "from datasets import load_dataset\n",
    "\n",
    "ds = load_dataset(\"stanfordnlp/imdb\")"
   ]
  },
  {
   "cell_type": "code",
   "execution_count": 1,
   "id": "1bd991b9-fbd9-4db9-9fad-3e4ed8c827b8",
   "metadata": {},
   "outputs": [
    {
     "name": "stderr",
     "output_type": "stream",
     "text": [
      "C:\\Users\\Utilisateur\\AppData\\Local\\Programs\\Python\\Python312\\Lib\\site-packages\\tqdm\\auto.py:21: TqdmWarning: IProgress not found. Please update jupyter and ipywidgets. See https://ipywidgets.readthedocs.io/en/stable/user_install.html\n",
      "  from .autonotebook import tqdm as notebook_tqdm\n"
     ]
    },
    {
     "data": {
      "text/plain": [
       "DatasetDict({\n",
       "    train: Dataset({\n",
       "        features: ['text', 'label'],\n",
       "        num_rows: 25000\n",
       "    })\n",
       "    test: Dataset({\n",
       "        features: ['text', 'label'],\n",
       "        num_rows: 25000\n",
       "    })\n",
       "    unsupervised: Dataset({\n",
       "        features: ['text', 'label'],\n",
       "        num_rows: 50000\n",
       "    })\n",
       "})"
      ]
     },
     "execution_count": 1,
     "metadata": {},
     "output_type": "execute_result"
    }
   ],
   "source": [
    "from datasets import load_from_disk\n",
    "\n",
    "ds_local = load_from_disk(\"data/imdb_dataset\")\n",
    "ds_local"
   ]
  },
  {
   "cell_type": "code",
   "execution_count": 62,
   "id": "e81a4d03-5613-4dc0-9a91-b2b2b893ba38",
   "metadata": {},
   "outputs": [],
   "source": [
    "from transformers import BertTokenizer\n",
    "tokenizer = BertTokenizer.from_pretrained('bert-base-uncased')"
   ]
  },
  {
   "cell_type": "code",
   "execution_count": 2,
   "id": "a8c8cc0f-39e8-4cda-97c0-11e69e5684ce",
   "metadata": {},
   "outputs": [],
   "source": [
    "class CustomImdbDataset:\n",
    "    def __init__(self, dataset):\n",
    "        self.reviews = dataset['text']\n",
    "        self.labels = dataset['label']\n",
    "        \n",
    "    def __len__(self):\n",
    "        return len(self.reviews)\n",
    "\n",
    "    def __getitem__(self, idx):\n",
    "        label = self.labels[idx]\n",
    "        review = self.reviews[idx]\n",
    "        \n",
    "        return review, label"
   ]
  },
  {
   "cell_type": "code",
   "execution_count": 3,
   "id": "b137441b-02d0-4f3e-9fdd-072c42fc136c",
   "metadata": {},
   "outputs": [
    {
     "data": {
      "text/plain": [
       "25000"
      ]
     },
     "execution_count": 3,
     "metadata": {},
     "output_type": "execute_result"
    }
   ],
   "source": [
    "train_ds = CustomImdbDataset(ds['train'])\n",
    "len(train_ds)"
   ]
  },
  {
   "cell_type": "code",
   "execution_count": 4,
   "id": "163b4a4e-b194-4e70-951f-d2572bc9059b",
   "metadata": {},
   "outputs": [
    {
     "data": {
      "text/plain": [
       "['Just', 'testing', '<', '/br', '>']"
      ]
     },
     "execution_count": 4,
     "metadata": {},
     "output_type": "execute_result"
    }
   ],
   "source": [
    "import re\n",
    "text = \"Just testing </br>\"\n",
    "# text = re.sub(r'<.*?>', '', text)\n",
    "from nltk.tokenize import word_tokenize\n",
    "word_tokenize(text)"
   ]
  },
  {
   "cell_type": "code",
   "execution_count": 60,
   "id": "7e944eeb-6303-47d4-919a-a0de57474ec9",
   "metadata": {},
   "outputs": [
    {
     "data": {
      "text/plain": [
       "BertTokenizerFast(name_or_path='bert-base-cased', vocab_size=28996, model_max_length=512, is_fast=True, padding_side='right', truncation_side='right', special_tokens={'unk_token': '[UNK]', 'sep_token': '[SEP]', 'pad_token': '[PAD]', 'cls_token': '[CLS]', 'mask_token': '[MASK]'}, clean_up_tokenization_spaces=True),  added_tokens_decoder={\n",
       "\t0: AddedToken(\"[PAD]\", rstrip=False, lstrip=False, single_word=False, normalized=False, special=True),\n",
       "\t100: AddedToken(\"[UNK]\", rstrip=False, lstrip=False, single_word=False, normalized=False, special=True),\n",
       "\t101: AddedToken(\"[CLS]\", rstrip=False, lstrip=False, single_word=False, normalized=False, special=True),\n",
       "\t102: AddedToken(\"[SEP]\", rstrip=False, lstrip=False, single_word=False, normalized=False, special=True),\n",
       "\t103: AddedToken(\"[MASK]\", rstrip=False, lstrip=False, single_word=False, normalized=False, special=True),\n",
       "}"
      ]
     },
     "execution_count": 60,
     "metadata": {},
     "output_type": "execute_result"
    }
   ],
   "source": [
    "from transformers import AutoTokenizer\n",
    "\n",
    "tokenizer = AutoTokenizer.from_pretrained(\"bert-base-cased\")\n",
    "tokenizer"
   ]
  },
  {
   "cell_type": "code",
   "execution_count": 5,
   "id": "bf1f7dcf-c258-41b8-82ea-b5ea7deaaccd",
   "metadata": {},
   "outputs": [],
   "source": [
    "from nltk.stem import WordNetLemmatizer\n",
    "from nltk.tokenize import word_tokenize\n",
    "class TextProcessing:\n",
    "    def __init__(self, lemmatizer=WordNetLemmatizer(), stop_words=None):\n",
    "        self.lemmatizer = lemmatizer\n",
    "        self.stop_words = stop_words\n",
    "\n",
    "    def __call__(self, text):\n",
    "        text = re.sub(r'<.*?>', '', text)\n",
    "        text = re.sub(r'[^a-zA-Z\\s]', '', text)\n",
    "        text = text.lower()\n",
    "\n",
    "        tokens = word_tokenize(text)\n",
    "        \n",
    "        if self.stop_words is not None:\n",
    "            tokens = [token for token in tokens if not token in self.stop_words]\n",
    "        \n",
    "        lemmatized_tokens = [self.lemmatizer.lemmatize(token) for token in tokens]\n",
    "        \n",
    "        return lemmatized_tokens     "
   ]
  },
  {
   "cell_type": "code",
   "execution_count": 6,
   "id": "1c9df5fd-d628-4ac8-8730-988133c856a3",
   "metadata": {},
   "outputs": [
    {
     "data": {
      "text/plain": [
       "['i', 'rented', 'i', 'am', 'curiousyellow']"
      ]
     },
     "execution_count": 6,
     "metadata": {},
     "output_type": "execute_result"
    }
   ],
   "source": [
    "tp = TextProcessing(stop_words=None)\n",
    "tp(train_ds[0][0])[:5]"
   ]
  },
  {
   "cell_type": "code",
   "execution_count": 7,
   "id": "e53ea208-562e-41b2-b337-a1cff17a311f",
   "metadata": {},
   "outputs": [
    {
     "data": {
      "text/plain": [
       "['rented', 'am', 'curiousyellow', 'from', 'my']"
      ]
     },
     "execution_count": 7,
     "metadata": {},
     "output_type": "execute_result"
    }
   ],
   "source": [
    "stop_words = set((\"the\", \"a\", \"this\", \"in\", \"of\", \"by\", \"and\", \"but\", \"or\", \"i\", \"it\", \"you\", \"just\", \"maybe\", \"there\"))\n",
    "tp = TextProcessing(stop_words=stop_words)\n",
    "tp(train_ds[0][0])[:5]"
   ]
  }
 ],
 "metadata": {
  "kernelspec": {
   "display_name": "Python 3 (ipykernel)",
   "language": "python",
   "name": "python3"
  },
  "language_info": {
   "codemirror_mode": {
    "name": "ipython",
    "version": 3
   },
   "file_extension": ".py",
   "mimetype": "text/x-python",
   "name": "python",
   "nbconvert_exporter": "python",
   "pygments_lexer": "ipython3",
   "version": "3.12.4"
  }
 },
 "nbformat": 4,
 "nbformat_minor": 5
}
